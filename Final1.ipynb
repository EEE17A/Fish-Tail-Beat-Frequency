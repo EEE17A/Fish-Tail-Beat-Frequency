{
 "cells": [
  {
   "cell_type": "code",
   "execution_count": 8,
   "id": "4e1f1841",
   "metadata": {},
   "outputs": [],
   "source": [
    "# importing open cv and other packages\n",
    "import cv2 \n",
    "import numpy as np\n",
    "\n",
    "font = cv2.FONT_HERSHEY_COMPLEX "
   ]
  },
  {
   "cell_type": "code",
   "execution_count": 14,
   "id": "df1ff9c0",
   "metadata": {},
   "outputs": [
    {
     "name": "stdout",
     "output_type": "stream",
     "text": [
      "Collecting opencv-python\n",
      "  Using cached opencv_python-4.5.2.54-cp38-cp38-win_amd64.whl (34.7 MB)\n",
      "Requirement already satisfied: numpy>=1.17.3 in c:\\users\\os\\anaconda3\\lib\\site-packages (from opencv-python) (1.19.5)\n",
      "Installing collected packages: opencv-python\n",
      "Successfully installed opencv-python-4.5.2.54\n"
     ]
    }
   ],
   "source": [
    "!pip install opencv-python"
   ]
  },
  {
   "cell_type": "code",
   "execution_count": 9,
   "id": "7727ed5b",
   "metadata": {},
   "outputs": [],
   "source": [
    "#Targer Video file\n",
    "videoFile='muh.mp4'"
   ]
  },
  {
   "cell_type": "code",
   "execution_count": 10,
   "id": "f67f9433",
   "metadata": {},
   "outputs": [],
   "source": [
    "camera = cv2.VideoCapture(videoFile)\n",
    "\n",
    "#reads the first image of the video for calibration function\n",
    "cap, firstFrame = camera.read() "
   ]
  },
  {
   "cell_type": "code",
   "execution_count": 11,
   "id": "7b0262be",
   "metadata": {},
   "outputs": [],
   "source": [
    "# initialize the first frame in the video stream\n",
    "firstFrame = None\n",
    "\n",
    "#declare variables and lists\n",
    "cx=0\n",
    "cy=0\n",
    "contourarea=[]\n",
    "xcent=[]\n",
    "ycent=[]\n",
    "xtail=[]\n",
    "ytail=[]\n",
    "xhead=[]\n",
    "yhead=[]"
   ]
  },
  {
   "cell_type": "code",
   "execution_count": 12,
   "id": "40132024",
   "metadata": {},
   "outputs": [],
   "source": [
    "# make the background subtractor a variable\n",
    "fgbg = cv2.bgsegm.createBackgroundSubtractorMOG()"
   ]
  },
  {
   "cell_type": "code",
   "execution_count": 13,
   "id": "a361c088",
   "metadata": {},
   "outputs": [],
   "source": [
    "# Iterating trough frames as long as True, Pressing q from keyboard will stop\n",
    "while True:\n",
    "    \n",
    "    #If Video does not loads, this will break the loop\n",
    "    #Unwanted errors are not welcome\n",
    "    (videoLoad, oldframe) = camera.read()\n",
    "    if not videoLoad:\n",
    "        break\n",
    "        \n",
    "    #As the provided video was not stable, I had to crop unwanted moving objects from background.\n",
    "    #Not recquired for stable video files\n",
    "    frame = oldframe[0:512, 210:640];\n",
    "        \n",
    "    #background subtractor turns the image into black and white format\n",
    "    fgmask = fgbg.apply(frame)\n",
    "    \n",
    "    #contours of white pixel are the contours of fish\n",
    "    (cnts, _) = cv2.findContours(fgmask, cv2.RETR_EXTERNAL,cv2.CHAIN_APPROX_SIMPLE) \n",
    "    \n",
    "    #Some Preprocessing\n",
    "    #----------------------------------------------------------------------------------------------------------\n",
    "    #Stores contour ares\n",
    "    cntarea=[0]\n",
    "    #stores center of contour area\n",
    "    xcntcoord=[0]\n",
    "    ycntcoord=[0]\n",
    "    #Stores coordintes or fish contour\n",
    "    xbody=[]\n",
    "    ybody=[]\n",
    "    #----------------------------------------------------------------------------------------------------------\n",
    "     \n",
    "        \n",
    "    #loop through contours\n",
    "    #-----------------------------------------------------------------------------------------------------------\n",
    "    for cnt in cnts :\n",
    "        #100 is selected to adjust noise\n",
    "        if cv2.contourArea(cnt) < 100:          \n",
    "            continue    \n",
    "        \n",
    "        #For creating outline of Fish Contour\n",
    "        approx = cv2.approxPolyDP(cnt, 0.009 * cv2.arcLength(cnt, True), True) \n",
    "\n",
    "        #Drawing boundary of fish contours. \n",
    "        cv2.drawContours(frame, [approx], 0, (0, 0, 255), 5) \n",
    "\n",
    "        #Flattening Contour coordintes array \n",
    "        n = approx.ravel() \n",
    "        i = 0\n",
    "        \n",
    "        for j in n : \n",
    "            if(i % 2 == 0): \n",
    "                x = n[i] \n",
    "                y = n[i + 1]\n",
    "            if(i == 0):\n",
    "                # First coordinate denotes Head\n",
    "                xhead.append(x)\n",
    "                yhead.append(y)\n",
    "            if(i==(len(n)-2)):\n",
    "                #Last coordinate denotes Tail\n",
    "                xtail.append(x)\n",
    "                ytail.append(y)                \n",
    "            i = i + 1\n",
    "            \n",
    "            \n",
    "        #if contour area is big enough, then this code runs\n",
    "        cntarea.append(cv2.contourArea(cnt)) #adds contour area to list\n",
    "        M = cv2.moments(cnt)                 #finds moments of contour\n",
    "        cx = int(M['m10']/M['m00'])        #calculates x coordinate of contour (i.e. centroid fish)\n",
    "        cy = int(M['m01']/M['m00'])        #calculates y coordinate of contour (i.e. centroid fish)\n",
    "        xcntcoord.append(cx)\n",
    "        ycntcoord.append(cy)\n",
    "    #----------------------------------------------------------------------------------------------------------- \n",
    "    \n",
    "    \n",
    "    #As Fist is the biigest object, finding it  contour\n",
    "    centroidIndex=cntarea.index(max(cntarea)) \n",
    "    \n",
    "    #Storing coordinate of centroid\n",
    "    xcent.append(xcntcoord[centroidIndex])  \n",
    "    ycent.append(ycntcoord[centroidIndex])\n",
    "    \n",
    "    \n",
    "    #############################################################################################################\n",
    "    # Tracing the path\n",
    "    for i in range(len(xcent)):\n",
    "        cv2.circle(frame, (xcent[i], ycent[i]),2, (0, 250, 255),thickness=-1)\n",
    "        \n",
    "    cv2.putText(frame, \"Centroid\", (xcntcoord[centroidIndex], ycntcoord[centroidIndex]),font, 0.5, (255, 0, 0))\n",
    "\n",
    "    cv2.imshow(\"Circle\",frame)\n",
    "    #############################################################################################################\n",
    "    # if the `q` key is pressed, break from the loop\n",
    "    key = cv2.waitKey(10)\n",
    "    if key == ord(\"q\"):\n",
    "        break\n",
    "\n",
    "camera.release()\n",
    "cv2.destroyAllWindows()"
   ]
  },
  {
   "cell_type": "code",
   "execution_count": 7,
   "id": "590a97ae",
   "metadata": {},
   "outputs": [],
   "source": [
    "#create numpy array with xcoord and ycoord of fish centroid\n",
    "cCoords=np.array((xcent,ycent),dtype=float) \n",
    "hCoords=np.array((xhead,yhead),dtype=float)\n",
    "tCoords=np.array((xtail,ytail),dtype=float)\n",
    "\n",
    "np.savetxt(\"centroid_coords.txt\",np.transpose(cCoords))\n",
    "np.savetxt(\"head_coords.txt\", np.transpose(hCoords))\n",
    "np.savetxt(\"tail_coords.txt\", np.transpose(tCoords))\n"
   ]
  },
  {
   "cell_type": "code",
   "execution_count": null,
   "id": "9621a42b",
   "metadata": {},
   "outputs": [],
   "source": []
  }
 ],
 "metadata": {
  "kernelspec": {
   "display_name": "Python 3",
   "language": "python",
   "name": "python3"
  },
  "language_info": {
   "codemirror_mode": {
    "name": "ipython",
    "version": 3
   },
   "file_extension": ".py",
   "mimetype": "text/x-python",
   "name": "python",
   "nbconvert_exporter": "python",
   "pygments_lexer": "ipython3",
   "version": "3.8.8"
  }
 },
 "nbformat": 4,
 "nbformat_minor": 5
}
